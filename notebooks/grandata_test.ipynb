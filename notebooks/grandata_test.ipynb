{
 "cells": [
  {
   "cell_type": "code",
   "execution_count": 3,
   "metadata": {},
   "outputs": [
    {
     "name": "stdout",
     "output_type": "stream",
     "text": [
      "+---+\n",
      "| id|\n",
      "+---+\n",
      "|  0|\n",
      "|  1|\n",
      "|  2|\n",
      "|  3|\n",
      "|  4|\n",
      "|  5|\n",
      "|  6|\n",
      "|  7|\n",
      "|  8|\n",
      "|  9|\n",
      "+---+\n",
      "\n",
      "+----+-----+-------+---+--------+------+---------+--------------+\n",
      "|hour|calls|seconds|sms|    date|region|id_source|id_destination|\n",
      "+----+-----+-------+---+--------+------+---------+--------------+\n",
      "|  11|    1|     24|  0|20211001|     5|      BF3|           374|\n",
      "|   1|    1|     51|  0|20211001|     4|      9F5|           374|\n",
      "|  11|    1|      3|  0|20211001|     6|      025|           374|\n",
      "|  10|    1|     36|  0|20211001|     5|      FB6|           D52|\n",
      "|  23|    4|    137|  0|20211001|     8|      4BB|           861|\n",
      "|  18|    0|      0|  1|20211001|     4|      90C|           5B0|\n",
      "|  13|    1|    618|  0|20211001|     9|      7AB|           4CA|\n",
      "|  16|    1|    172|  0|20211001|     9|      7AB|           4CA|\n",
      "|   6|    1|    208|  0|20211001|     9|      7AB|           4CA|\n",
      "|   5|    1|     66|  0|20211001|     9|      7AB|           4CA|\n",
      "+----+-----+-------+---+--------+------+---------+--------------+\n",
      "only showing top 10 rows\n",
      "\n",
      "+---+\n",
      "| id|\n",
      "+---+\n",
      "|374|\n",
      "|D52|\n",
      "|861|\n",
      "|5B0|\n",
      "|4CA|\n",
      "|465|\n",
      "|048|\n",
      "|D5B|\n",
      "|FD6|\n",
      "|2D3|\n",
      "+---+\n",
      "only showing top 10 rows\n",
      "\n"
     ]
    }
   ],
   "source": [
    "from pyspark.sql import SparkSession, DataFrame\n",
    "from pyspark.sql.functions import col, md5\n",
    "import matplotlib.pyplot as plt\n",
    "\n",
    "# Initialize Spark Session with the specified application name\n",
    "spark = SparkSession.builder.appName(\"Test_grandata\").getOrCreate()\n",
    "\n",
    "# Example to confirm Spark session by creating a simple range dataframe and showing the result\n",
    "spark.range(10).show()\n",
    "\n",
    "# Define file paths for the datasets\n",
    "events_csv_path = \"/home/jovyan/datasets/events.csv.gz\"\n",
    "free_sms_destinations_csv_path = \"/home/jovyan/datasets/free_sms_destinations.csv.gz\"\n",
    "\n",
    "# Read the CSV files into DataFrames with header and inferred schema\n",
    "df_events = spark.read.csv(events_csv_path, header=True, inferSchema=True)\n",
    "df_destinations = spark.read.csv(free_sms_destinations_csv_path, header=True, inferSchema=True)\n",
    "\n",
    "# Display the first 10 rows of each DataFrame to verify data loading\n",
    "df_events.show(10)\n",
    "df_destinations.show(10)\n",
    "\n",
    "# Create temporary views for SQL queries\n",
    "df_events.createOrReplaceTempView(\"events\")\n",
    "df_destinations.createOrReplaceTempView(\"free_sms_destinations\")\n"
   ]
  },
  {
   "cell_type": "code",
   "execution_count": 4,
   "metadata": {},
   "outputs": [
    {
     "name": "stdout",
     "output_type": "stream",
     "text": [
      "+-----------+\n",
      "|costo_total|\n",
      "+-----------+\n",
      "|  1696022.5|\n",
      "+-----------+\n",
      "\n"
     ]
    }
   ],
   "source": [
    "\n",
    "# Calculates the total billing cost for the company.\n",
    "df_costo_total = spark.sql(f\"\"\" SELECT \n",
    "                            SUM( CASE \n",
    "                                    WHEN CAST(region AS INT) BETWEEN 1 AND 5 THEN 1.5\n",
    "                                    WHEN CAST(region AS INT) BETWEEN 6 AND 9 THEN 2\n",
    "                                    ELSE 0 \n",
    "                                END ) AS costo_total\n",
    "                            FROM events\n",
    "                            LEFT JOIN free_sms_destinations ON events.id_destination = free_sms_destinations.id\n",
    "                            WHERE free_sms_destinations.id IS NULL \n",
    "                            AND id_destination IS NOT NULL \n",
    "                            AND id_source IS NOT NULL\n",
    "                                        \"\"\")\n",
    "\n",
    "df_costo_total.show()"
   ]
  },
  {
   "cell_type": "code",
   "execution_count": 5,
   "metadata": {},
   "outputs": [
    {
     "name": "stdout",
     "output_type": "stream",
     "text": [
      "+--------------------+-------+\n",
      "|           ID_SOURCE|  costo|\n",
      "+--------------------+-------+\n",
      "|911914c7729eedbdf...|18573.0|\n",
      "|bd180b7811395cbce...|13508.0|\n",
      "|14a0660ae2f5d1868...| 4070.0|\n",
      "|16c222aa19898e505...| 1707.0|\n",
      "|bc97b32ee2abb9c18...| 1292.5|\n",
      "|6a57072949dbc409c...| 1026.0|\n",
      "|f5a45e33602ea62f9...| 1023.5|\n",
      "|e9d076deb3451cc49...| 1015.5|\n",
      "|1b2e80021b5fc82bf...|  892.0|\n",
      "|159e1f3d6ff0e7c3c...|  714.5|\n",
      "|4e321438558549248...|  702.0|\n",
      "|aeb3135b436aa5537...|  680.0|\n",
      "|496ce5f942d15eefb...|  652.0|\n",
      "|beed13602b9b0e6ec...|  626.5|\n",
      "|aa35b36e4d1395542...|  616.0|\n",
      "|e87c495061191f4df...|  611.5|\n",
      "|2823f4797102ce1a1...|  610.5|\n",
      "|11b921ef080f77360...|  605.5|\n",
      "|13d8d90116cbacd3a...|  603.5|\n",
      "|49159f42b0f043d6d...|  592.5|\n",
      "+--------------------+-------+\n",
      "only showing top 20 rows\n",
      "\n"
     ]
    }
   ],
   "source": [
    "# We group by id_source, sum their costs, order by the result, and keep the top 100\n",
    "# Exclude rows where id is null and also those where the message sending cost is zero\n",
    "\n",
    "df_costo_usuario = spark.sql(f\"\"\" SELECT md5(id_source) AS ID_SOURCE,\n",
    "                            SUM( CASE \n",
    "                                    WHEN CAST(region AS INT) BETWEEN 1 AND 5 THEN 1.5\n",
    "                                    WHEN CAST(region AS INT) BETWEEN 6 AND 9 THEN 2\n",
    "                                    ELSE 0 \n",
    "                                END ) AS costo\n",
    "                            FROM events\n",
    "                            LEFT JOIN free_sms_destinations ON events.id_destination = free_sms_destinations.id\n",
    "                            WHERE free_sms_destinations.id IS NULL \n",
    "                            AND id_destination IS NOT NULL \n",
    "                            AND id_source IS NOT NULL\n",
    "                     GROUP BY id_source\n",
    "                     ORDER BY costo desc \n",
    "                     LIMIT 100\n",
    "                                        \"\"\")\n",
    "df_costo_usuario.show()                  \n",
    "\n",
    "# Write the output as a Parquet file with gzip compression\n",
    "df_costo_usuario.write.mode(\"overwrite\").parquet(\"/home/jovyan/data/parquet\", compression=\"gzip\")\n"
   ]
  },
  {
   "cell_type": "code",
   "execution_count": 9,
   "metadata": {},
   "outputs": [
    {
     "data": {
      "image/png": "[encoded data removed]",
      "text/plain": [
       "<Figure size 700x400 with 1 Axes>"
      ]
     },
     "metadata": {},
     "output_type": "display_data"
    }
   ],
   "source": [
    "# Group the calls by hour\n",
    "llamadas_por_hora_df = df_events.groupBy(\"hour\").count()\n",
    "\n",
    "# Convert to a Pandas DataFrame for plotting\n",
    "pd_df = llamadas_por_hora_df.toPandas()\n",
    "\n",
    "# Sort by hour\n",
    "pd_df.sort_values(\"hour\", inplace=True)\n",
    "\n",
    "# Plot the data\n",
    "plt.figure(figsize=(7,4))\n",
    "plt.bar(pd_df[\"hour\"], pd_df[\"count\"], color='red')\n",
    "plt.xlabel('Hora del día')\n",
    "plt.ylabel('Cantidad de llamadas')\n",
    "plt.title('Histograma de llamadas por hora del día')\n",
    "plt.savefig('/home/jovyan/data/histograma_calls_per_hour.png')"
   ]
  },
  {
   "cell_type": "code",
   "execution_count": null,
   "metadata": {},
   "outputs": [],
   "source": []
  }
 ],
 "metadata": {
  "kernelspec": {
   "display_name": "Python 3 (ipykernel)",
   "language": "python",
   "name": "python3"
  },
  "language_info": {
   "codemirror_mode": {
    "name": "ipython",
    "version": 3
   },
   "file_extension": ".py",
   "mimetype": "text/x-python",
   "name": "python",
   "nbconvert_exporter": "python",
   "pygments_lexer": "ipython3",
   "version": "3.11.6"
  }
 },
 "nbformat": 4,
 "nbformat_minor": 4
}
